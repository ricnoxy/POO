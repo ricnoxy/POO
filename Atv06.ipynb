{
 "cells": [
  {
   "cell_type": "markdown",
   "id": "a027a000-2432-4d25-b089-7c7655c6b0a1",
   "metadata": {},
   "source": [
    "# Lista exercicios 06 "
   ]
  },
  {
   "cell_type": "markdown",
   "id": "45daf621-9479-4b4d-9bab-642f74afc1a2",
   "metadata": {},
   "source": [
    "## Siga as instruções de cada exercício e utilize a estrutura de desvio de fluxo if else e a classe Scanner para interagir com o usuário e realizar os procedimentos necessários. "
   ]
  },
  {
   "cell_type": "markdown",
   "id": "a34c72a4-4b94-42e4-9773-f500eb87f2f1",
   "metadata": {},
   "source": [
    "1 - Crie uma classe em Java solicitando ao usuário para insirir o valor total de uma compra e o tipo de cliente (regular ou especial). Se for cliente especial, conceda um desconto de 10% no valor total. Caso contrário, conceda um desconto de 5%. Em seguida, exiba o valor final após o desconto."
   ]
  },
  {
   "cell_type": "code",
   "execution_count": null,
   "id": "791f887f-fc7b-4803-a284-33ac49dff110",
   "metadata": {
    "vscode": {
     "languageId": "java"
    }
   },
   "outputs": [],
   "source": [
    "import java.util.Scanner;\n",
    "\n",
    "// public class Ex01 {\n",
    "    // public static void main(String[] args) {\n",
    "        Scanner scanner = new Scanner(System.in);\n",
    "        System.out.print(\"Digite o valor total da compra: \");\n",
    "        double valorTotal = scanner.nextDouble();\n",
    "        System.out.print(\"Digite o tipo de cliente (regular ou especial): \");\n",
    "        String tipoCliente = scanner.next();\n",
    "\n",
    "        double desconto;\n",
    "        if (tipoCliente.equalsIgnoreCase(\"especial\")) {\n",
    "            desconto = 0.10;\n",
    "        } else {\n",
    "            desconto = 0.05;\n",
    "        }\n",
    "\n",
    "        double valorFinal = valorTotal - (valorTotal * desconto);\n",
    "        System.out.println(\"Valor final após desconto: \" + valorFinal);\n",
    "        scanner.close();\n",
    "    // }\n",
    "// }\n"
   ]
  },
  {
   "cell_type": "markdown",
   "id": "68496b37-d1a1-4811-a8a9-a6420f28d6bc",
   "metadata": {},
   "source": [
    "2 - Crie uma classe em Java que peça ao usuário para inserir um ano e verifique se é um ano bissexto ou não. Um ano bissexto é aquele que é divisível por 4, exceto os anos que são divisíveis por 100, a menos que sejam divisíveis por 400."
   ]
  },
  {
   "cell_type": "code",
   "execution_count": null,
   "id": "b244b0ea-4fc5-4be4-9858-a85593eb214a",
   "metadata": {
    "vscode": {
     "languageId": "java"
    }
   },
   "outputs": [],
   "source": [
    "import java.util.Scanner;\n",
    "\n",
    "// public class Ex02 {\n",
    "    // public static void main(String[] args) {\n",
    "        Scanner scanner = new Scanner(System.in);\n",
    "        System.out.print(\"Digite um ano: \");\n",
    "        int ano = scanner.nextInt();\n",
    "\n",
    "        if ((ano % 4 == 0 && ano % 100 != 0) || (ano % 400 == 0)) {\n",
    "            System.out.println(ano + \" é um ano bissexto.\");\n",
    "        } else {\n",
    "            System.out.println(ano + \" não é um ano bissexto.\");\n",
    "        }\n",
    "        scanner.close();\n",
    "    // }\n",
    "// }\n"
   ]
  },
  {
   "cell_type": "markdown",
   "id": "a4d72213-0bbe-4ef2-82e8-41961a733523",
   "metadata": {},
   "source": [
    "3 - Crie uma classe em Java que solicite ao usuário para inserir três números e ordene-os em ordem crescente utilizando estruturas de if else."
   ]
  },
  {
   "cell_type": "code",
   "execution_count": null,
   "id": "ce4f5e04-8de3-4763-9b64-56a7c99552f8",
   "metadata": {
    "vscode": {
     "languageId": "java"
    }
   },
   "outputs": [],
   "source": [
    "import java.util.Scanner;\n",
    "\n",
    "// public class Ex03 {\n",
    "    // public static void main(String[] args) {\n",
    "        Scanner scanner = new Scanner(System.in);\n",
    "        System.out.println(\"Digite três números: \");\n",
    "        double num1 = scanner.nextDouble();\n",
    "        double num2 = scanner.nextDouble();\n",
    "        double num3 = scanner.nextDouble();\n",
    "\n",
    "        double temp;\n",
    "        if (num1 > num2) {\n",
    "            temp = num1;\n",
    "            num1 = num2;\n",
    "            num2 = temp;\n",
    "        }\n",
    "        if (num2 > num3) {\n",
    "            temp = num2;\n",
    "            num2 = num3;\n",
    "            num3 = temp;\n",
    "        }\n",
    "        if (num1 > num2) {\n",
    "            temp = num1;\n",
    "            num1 = num2;\n",
    "            num2 = temp;\n",
    "        }\n",
    "\n",
    "        System.out.println(\"Números em ordem crescente: \" + num1 + \", \" + num2 + \", \" + num3);\n",
    "        scanner.close();\n",
    "    // }\n",
    "// }\n"
   ]
  },
  {
   "cell_type": "markdown",
   "id": "739b3828-4bee-42be-88c4-e45ac293cda8",
   "metadata": {},
   "source": [
    "4 - Crie uma classe em Java que solicite uma letra do usuário e use if else para determinar se é uma vogal ou consoante."
   ]
  },
  {
   "cell_type": "code",
   "execution_count": null,
   "id": "e9c08d3d-4b9c-41e8-be15-6d0191ff217f",
   "metadata": {
    "vscode": {
     "languageId": "java"
    }
   },
   "outputs": [],
   "source": [
    "import java.util.Scanner;\n",
    "\n",
    "// public class Ex04 {\n",
    "    // public static void main(String[] args) {\n",
    "        Scanner scanner = new Scanner(System.in);\n",
    "        System.out.print(\"Digite uma letra: \");\n",
    "        char letra = scanner.next().toLowerCase().charAt(0);\n",
    "\n",
    "        if (letra == 'a' || letra == 'e' || letra == 'i' || letra == 'o' || letra == 'u') {\n",
    "            System.out.println(letra + \" é uma vogal.\");\n",
    "        } else {\n",
    "            System.out.println(letra + \" é uma consoante.\");\n",
    "        }\n",
    "        scanner.close();\n",
    "    // }\n",
    "// }\n"
   ]
  },
  {
   "cell_type": "markdown",
   "id": "72dee444-9b77-46e2-b13d-d85ee28d2a2b",
   "metadata": {},
   "source": [
    "5 - Crie uma classe em Java que peça ao usuário para inserir três valores que representem os lados de um triângulo. Use if else para determinar se é um triângulo equilátero, isósceles ou escaleno."
   ]
  },
  {
   "cell_type": "code",
   "execution_count": null,
   "id": "4e1c2ae8-d083-4db7-9d30-3835abc58a0a",
   "metadata": {
    "vscode": {
     "languageId": "java"
    }
   },
   "outputs": [],
   "source": [
    "import java.util.Scanner;\n",
    "\n",
    "// public class Ex05 {\n",
    "    // public static void main(String[] args) {\n",
    "        Scanner scanner = new Scanner(System.in);\n",
    "        System.out.println(\"Digite os comprimentos dos três lados de um triângulo: \");\n",
    "        double lado1 = scanner.nextDouble();\n",
    "        double lado2 = scanner.nextDouble();\n",
    "        double lado3 = scanner.nextDouble();\n",
    "\n",
    "        if (lado1 == lado2 && lado2 == lado3) {\n",
    "            System.out.println(\"É um triângulo equilátero.\");\n",
    "        } else if (lado1 == lado2 || lado1 == lado3 || lado2 == lado3) {\n",
    "            System.out.println(\"É um triângulo isósceles.\");\n",
    "        } else {\n",
    "            System.out.println(\"É um triângulo escaleno.\");\n",
    "        }\n",
    "        scanner.close();\n",
    "    // }\n",
    "// }\n"
   ]
  }
 ],
 "metadata": {
  "kernelspec": {
   "display_name": "Java",
   "language": "java",
   "name": "java"
  },
  "language_info": {
   "codemirror_mode": "java",
   "file_extension": ".jshell",
   "mimetype": "text/x-java-source",
   "name": "Java",
   "pygments_lexer": "java",
   "version": "21.0.1+12-LTS-29"
  }
 },
 "nbformat": 4,
 "nbformat_minor": 5
}
