{
 "cells": [
  {
   "cell_type": "markdown",
   "id": "6a091ea4-7160-4a68-8e27-516281cdde44",
   "metadata": {},
   "source": [
    "# Exercício 01\n",
    "\n",
    "<p style=\"text-align:justify;\">\n",
    "Crie uma classe que efetue a leitura de um valor inteiro e outro real, exibindo-os no console.\n",
    "</p>\n"
   ]
  },
  {
   "cell_type": "code",
   "execution_count": null,
   "id": "b1fc1c9c-1041-4489-ab5a-c6dbb117c46e",
   "metadata": {
    "vscode": {
     "languageId": "java"
    }
   },
   "outputs": [],
   "source": [
    "\n",
    "import java.util.Scanner;\n",
    "\n",
    "// public class Ex01 {\n",
    "    // public static void main(String[] args) {\n",
    "        Scanner scanner = new Scanner(System.in);\n",
    "        \n",
    "        System.out.println(\"Enter an integer:\");\n",
    "        int intValue = scanner.nextInt();\n",
    "        \n",
    "        System.out.println(\"Enter a real number:\");\n",
    "        double realValue = scanner.nextDouble();\n",
    "        \n",
    "        System.out.println(\"Integer value: \" + intValue);\n",
    "        System.out.println(\"Real value: \" + realValue);\n",
    "        \n",
    "        scanner.close();\n",
    "    // }\n",
    "// }\n"
   ]
  },
  {
   "cell_type": "markdown",
   "id": "f4fa7c5f-f375-4dbd-9d41-c29e4aa530b8",
   "metadata": {},
   "source": [
    "# Exercício 02\n",
    "\n",
    "<p style=\"text-align:justify;\">\n",
    "Crie uma classe que receba o valor de um produto e a porcentagem de desconto, calcule e mostre o valor do desconto e o valor do produto com o desconto. \n",
    "</p>\n",
    "\n",
    "- Observação: o valor do desconto é calculado por meio da fórmula: \n",
    "    valor do desconto = valor do produto * percentual de desconto / 100."
   ]
  },
  {
   "cell_type": "code",
   "execution_count": null,
   "id": "27572059-80fa-4edc-8b68-8a278f44beb2",
   "metadata": {
    "vscode": {
     "languageId": "java"
    }
   },
   "outputs": [],
   "source": [
    "\n",
    "import java.util.Scanner;\n",
    "\n",
    "// public class Ex02 {\n",
    "    // public static void main(String[] args) {\n",
    "        Scanner scanner = new Scanner(System.in);\n",
    "        \n",
    "        System.out.println(\"Enter the product value:\");\n",
    "        double productValue = scanner.nextDouble();\n",
    "        \n",
    "        System.out.println(\"Enter the discount percentage:\");\n",
    "        double discountPercentage = scanner.nextDouble();\n",
    "        \n",
    "        double discountAmount = productValue * discountPercentage / 100;\n",
    "        double discountedPrice = productValue - discountAmount;\n",
    "        \n",
    "        System.out.println(\"Discount amount: \" + discountAmount);\n",
    "        System.out.println(\"Discounted price: \" + discountedPrice);\n",
    "        \n",
    "        scanner.close();\n",
    "    // }\n",
    "// }\n"
   ]
  },
  {
   "cell_type": "markdown",
   "id": "9fe1c075-7e1e-4ee7-ad63-82c57f315026",
   "metadata": {},
   "source": [
    "# Exercício 03\n",
    "\n",
    "<p style=\"text-align:justify;\">\n",
    "Crie uma classe que receba dois valores inteiros. \n",
    "</p>\n",
    "\n",
    "- O primeiro valor corresponde à quantidade de pontos do líder do campeonato brasileiro de futebol. \n",
    "\n",
    "- O segundo valor corresponde à quantidade de pontos do time lanterna. \n",
    "\n",
    "<p style=\"text-align:justify;\">\n",
    "- Considerando que cada vitória vale 3 pontos, calcule o número de vitórias necessárias para que o time lanterna alcance (ou ultrapasse) o líder. \n",
    "    \n",
    "- Por exemplo, supondo que as quantidades de ponto fornecidas sejam 40 e 22, então o número de vitórias apresentada na saída deverá ser 6, pois (40-22) / 3 = 6.\n",
    "</p>"
   ]
  },
  {
   "cell_type": "code",
   "execution_count": null,
   "id": "5914c0ce-a615-4b29-804e-ef33d0791bcc",
   "metadata": {
    "vscode": {
     "languageId": "java"
    }
   },
   "outputs": [],
   "source": [
    "\n",
    "import java.util.Scanner;\n",
    "\n",
    "// public class Ex03 {\n",
    "    // public static void main(String[] args) {\n",
    "        Scanner scanner = new Scanner(System.in);\n",
    "        \n",
    "        System.out.println(\"Enter the leader's points:\");\n",
    "        int leaderPoints = scanner.nextInt();\n",
    "        \n",
    "        System.out.println(\"Enter the last place team's points:\");\n",
    "        int lastPlacePoints = scanner.nextInt();\n",
    "        \n",
    "        int difference = leaderPoints - lastPlacePoints;\n",
    "        int victoriesNeeded = difference / 3;\n",
    "        \n",
    "        System.out.println(\"Number of victories needed: \" + victoriesNeeded);\n",
    "        \n",
    "        scanner.close();\n",
    "    // }\n",
    "// }\n"
   ]
  },
  {
   "cell_type": "markdown",
   "id": "42906d7e-d01b-49b2-bfef-ed4fdd6dab07",
   "metadata": {},
   "source": [
    "# Exercício 04 \n",
    "<p style=\"text-align:justify;\">\n",
    "Crie uma classe que solicite ao usuário inserir dois inteiros, obtenha dele esses números e imprima sua soma, produto, diferença e quociente (divisão).\n",
    "</p>"
   ]
  },
  {
   "cell_type": "code",
   "execution_count": null,
   "id": "68cc1699-d585-40ea-b0d4-edd278538f20",
   "metadata": {
    "vscode": {
     "languageId": "java"
    }
   },
   "outputs": [],
   "source": [
    "import java.util.Scanner;\n",
    "\n",
    "// public class Ex04 {\n",
    "    // public static void main(String[] args) {\n",
    "        Scanner scanner = new Scanner(System.in);\n",
    "        \n",
    "        System.out.println(\"Enter the first integer:\");\n",
    "        int firstInt = scanner.nextInt();\n",
    "        \n",
    "        System.out.println(\"Enter the second integer:\");\n",
    "        int secondInt = scanner.nextInt();\n",
    "        \n",
    "        System.out.println(\"Sum: \" + (firstInt + secondInt));\n",
    "        System.out.println(\"Product: \" + (firstInt * secondInt));\n",
    "        System.out.println(\"Difference: \" + (firstInt - secondInt));\n",
    "        \n",
    "        if (secondInt != 0) {\n",
    "            System.out.println(\"Quotient: \" + ((double)firstInt / secondInt));\n",
    "        } else {\n",
    "            System.out.println(\"Cannot divide by zero.\");\n",
    "        }\n",
    "        \n",
    "        scanner.close();\n",
    "    // }\n",
    "// }\n"
   ]
  },
  {
   "cell_type": "markdown",
   "id": "db7c7f2a-c557-430a-ade4-8252198f95b5",
   "metadata": {},
   "source": [
    "# Exercício 05 \n",
    "\n",
    "Declare uma classe para calcular o produto de três inteiros.\n",
    "\n",
    "Siga as instruções abaixo:\n",
    "\n",
    "1. Crie um Scanner chamado input que leia valores a partir da entrada padrão.\n",
    "2. Declare as variáveis x, y, z e result como tipo int.\n",
    "3. Solicite que o usuário insira o primeiro inteiro.\n",
    "4. Leia o primeiro inteiro digitado pelo usuário e armazene-o na variável x.\n",
    "5. Solicite que o usuário insira o segundo inteiro.\n",
    "6. Leia o segundo inteiro digitado pelo usuário e armazene-o na variável y.\n",
    "7. Solicite que o usuário insira o terceiro inteiro.\n",
    "8. Leia o terceiro inteiro digitado pelo usuário e armazene-o na variável z.\n",
    "9. Compute o produto dos três inteiros contidos nas variáveis x, y e z e atribua o resultado à variável result.\n",
    "19. Use System.out.printf para exibir a mensagem “O valor do produto é” seguida pelo valor da variável result. "
   ]
  },
  {
   "cell_type": "code",
   "execution_count": null,
   "id": "c421ee60-57dd-4674-8436-2e43e758e4f1",
   "metadata": {
    "vscode": {
     "languageId": "java"
    }
   },
   "outputs": [],
   "source": [
    "\n",
    "import java.util.Scanner;\n",
    "\n",
    "// public class Ex05 {\n",
    "    // public static void main(String[] args) {\n",
    "        Scanner input = new Scanner(System.in);\n",
    "        \n",
    "        int x, y, z, result;\n",
    "        \n",
    "        System.out.println(\"Enter the first integer:\");\n",
    "        x = input.nextInt();\n",
    "        \n",
    "        System.out.println(\"Enter the second integer:\");\n",
    "        y = input.nextInt();\n",
    "        \n",
    "        System.out.println(\"Enter the third integer:\");\n",
    "        z = input.nextInt();\n",
    "        \n",
    "        result = x * y * z;\n",
    "        \n",
    "        System.out.printf(\"The value of the product is %d%n\", result);\n",
    "        \n",
    "        input.close();\n",
    "    // }\n",
    "// }\n"
   ]
  }
 ],
 "metadata": {
  "kernelspec": {
   "display_name": "Java",
   "language": "java",
   "name": "java"
  },
  "language_info": {
   "codemirror_mode": "java",
   "file_extension": ".jshell",
   "mimetype": "text/x-java-source",
   "name": "Java",
   "pygments_lexer": "java",
   "version": "21.0.1+12-LTS-29"
  }
 },
 "nbformat": 4,
 "nbformat_minor": 5
}
