{
 "cells": [
  {
   "cell_type": "markdown",
   "id": "a027a000-2432-4d25-b089-7c7655c6b0a1",
   "metadata": {},
   "source": [
    "# Lista exercicios 05 - Atividade realizada em sala"
   ]
  },
  {
   "cell_type": "markdown",
   "id": "45daf621-9479-4b4d-9bab-642f74afc1a2",
   "metadata": {},
   "source": [
    "## Siga as instruções de cada exercício e utilize a estrutura de repetição for e a classe Scanner para interagir com o usuário e realizar os cálculos necessários. "
   ]
  },
  {
   "cell_type": "markdown",
   "id": "a34c72a4-4b94-42e4-9773-f500eb87f2f1",
   "metadata": {},
   "source": [
    "1 - Crie uma classe em Java que solicite ao usuário um número inteiro e exiba a tabuada desse número de 1 a 10."
   ]
  },
  {
   "cell_type": "code",
   "execution_count": null,
   "id": "791f887f-fc7b-4803-a284-33ac49dff110",
   "metadata": {
    "vscode": {
     "languageId": "java"
    }
   },
   "outputs": [],
   "source": [
    "// Exercício 1: Tabuada\n",
    "System.out.print(\"Digite um número inteiro para exibir sua tabuada de 1 a 10: \");\n",
    "int num1 = scanner.nextInt();\n",
    "System.out.println(\"Tabuada do \" + num1 + \":\");\n",
    "for (int i = 1; i <= 10; i++) {\n",
    "    System.out.println(num1 + \" x \" + i + \" = \" + (num1 * i));\n",
    "}\n"
   ]
  },
  {
   "cell_type": "markdown",
   "id": "68496b37-d1a1-4811-a8a9-a6420f28d6bc",
   "metadata": {},
   "source": [
    "2 - Crie uma classe em Java que solicite ao usuário um número inteiro positivo e realize uma contagem regressiva a partir desse número até 1."
   ]
  },
  {
   "cell_type": "code",
   "execution_count": null,
   "id": "b244b0ea-4fc5-4be4-9858-a85593eb214a",
   "metadata": {
    "vscode": {
     "languageId": "java"
    }
   },
   "outputs": [],
   "source": [
    "// Exercício 2: Contagem Regressiva\n",
    "System.out.print(\"Digite um número inteiro positivo para iniciar a contagem regressiva: \");\n",
    "int num2 = scanner.nextInt();\n",
    "System.out.println(\"Contagem regressiva a partir de \" + num2 + \":\");\n",
    "for (int i = num2; i >= 1; i--) {\n",
    "    System.out.println(i);\n",
    "}\n"
   ]
  },
  {
   "cell_type": "markdown",
   "id": "a4d72213-0bbe-4ef2-82e8-41961a733523",
   "metadata": {},
   "source": [
    "3 - Crie uma classe em Java que solicite ao usuário um número inteiro positivo e calcule o seu fatorial."
   ]
  },
  {
   "cell_type": "code",
   "execution_count": null,
   "id": "ce4f5e04-8de3-4763-9b64-56a7c99552f8",
   "metadata": {
    "vscode": {
     "languageId": "java"
    }
   },
   "outputs": [],
   "source": [
    "// Exercício 3: Fatorial\n",
    "System.out.print(\"Digite um número inteiro positivo para calcular o seu fatorial: \");\n",
    "int num3 = scanner.nextInt();\n",
    "int fatorial = 1;\n",
    "for (int i = 1; i <= num3; i++) {\n",
    "    fatorial *= i;\n",
    "}\n",
    "System.out.println(\"Fatorial de \" + num3 + \" é: \" + fatorial);\n"
   ]
  },
  {
   "cell_type": "markdown",
   "id": "739b3828-4bee-42be-88c4-e45ac293cda8",
   "metadata": {},
   "source": [
    "4 - Crie uma classe em Java que solicite ao usuário a quantidade de termos desejada e \n",
    "imprima os termos da série de Fibonacci até o número especificado."
   ]
  },
  {
   "cell_type": "code",
   "execution_count": null,
   "id": "e9c08d3d-4b9c-41e8-be15-6d0191ff217f",
   "metadata": {
    "vscode": {
     "languageId": "java"
    }
   },
   "outputs": [],
   "source": [
    "// Exercício 4: Série de Fibonacci\n",
    "System.out.print(\"Digite a quantidade de termos desejada para a série de Fibonacci: \");\n",
    "int num4 = scanner.nextInt();\n",
    "int primeiroTermo = 0, segundoTermo = 1;\n",
    "System.out.println(\"Série de Fibonacci:\");\n",
    "for (int i = 1; i <= num4; i++) {\n",
    "    System.out.print(primeiroTermo + \" \");\n",
    "    int proximoTermo = primeiroTermo + segundoTermo;\n",
    "    primeiroTermo = segundoTermo;\n",
    "    segundoTermo = proximoTermo;\n",
    "}\n",
    "\n",
    "scanner.close();"
   ]
  },
  {
   "cell_type": "markdown",
   "id": "5ba49af5-4ecd-4fdd-9fd4-6e28314517c1",
   "metadata": {},
   "source": [
    "## Siga as instruções de cada exercício e utilize a estrutura de repetição while e a classe Scanner para interagir com o usuário e realizar os cálculos necessários. "
   ]
  },
  {
   "cell_type": "markdown",
   "id": "b2bf2eab-f3ff-4ea9-9b30-5aadd04677fd",
   "metadata": {},
   "source": [
    "1 - Crie uma classe em Java que solicite ao usuário um número inteiro e exiba a tabuada desse número de 1 a 10 utilizando a estrutura de repetição while."
   ]
  },
  {
   "cell_type": "code",
   "execution_count": null,
   "id": "54bf7abc-4c3f-42c2-9fb8-c915135fdb8b",
   "metadata": {
    "vscode": {
     "languageId": "java"
    }
   },
   "outputs": [],
   "source": [
    "   // Exercício 1: Tabuada\n",
    "   System.out.print(\"Digite um número inteiro para exibir sua tabuada de 1 a 10: \");\n",
    "   int num1 = scanner.nextInt();\n",
    "   System.out.println(\"Tabuada do \" + num1 + \":\");\n",
    "   int i = 1;\n",
    "   while (i <= 10) {\n",
    "       System.out.println(num1 + \" x \" + i + \" = \" + (num1 * i));\n",
    "       i++;\n",
    "   }"
   ]
  },
  {
   "cell_type": "markdown",
   "id": "df9a39b8-c0b7-4a8d-b182-00ec8024e630",
   "metadata": {},
   "source": [
    "2 - Crie uma classe em Java que solicite ao usuário um número inteiro positivo e realize uma contagem regressiva a partir desse número até 1 utilizando a estrutura de repetição while."
   ]
  },
  {
   "cell_type": "code",
   "execution_count": null,
   "id": "f34b3b6a-1f4f-4ed7-914e-056fe8581975",
   "metadata": {
    "vscode": {
     "languageId": "java"
    }
   },
   "outputs": [],
   "source": [
    "// Exercício 2: Contagem Regressiva\n",
    "System.out.print(\"Digite um número inteiro positivo para iniciar a contagem regressiva: \");\n",
    "int num2 = scanner.nextInt();\n",
    "System.out.println(\"Contagem regressiva a partir de \" + num2 + \":\");\n",
    "while (num2 >= 1) {\n",
    "    System.out.println(num2);\n",
    "    num2--;\n",
    "}\n"
   ]
  },
  {
   "cell_type": "markdown",
   "id": "b101f5bb-e594-43d0-b7f7-70fd65af0df5",
   "metadata": {},
   "source": [
    "3 - Crie uma classe em Java que solicite ao usuário um número inteiro positivo e calcule o seu fatorial utilizando a estrutura de repetição while."
   ]
  },
  {
   "cell_type": "code",
   "execution_count": null,
   "id": "1fee6caf-d4b9-4ee6-97e7-dca3143a1393",
   "metadata": {
    "vscode": {
     "languageId": "java"
    }
   },
   "outputs": [],
   "source": [
    "// Exercício 3: Fatorial\n",
    "System.out.print(\"Digite um número inteiro positivo para calcular o seu fatorial: \");\n",
    "int num3 = scanner.nextInt();\n",
    "int fatorial = 1;\n",
    "int j = 1;\n",
    "while (j <= num3) {\n",
    "    fatorial *= j;\n",
    "    j++;\n",
    "}\n",
    "System.out.println(\"Fatorial de \" + num3 + \" é: \" + fatorial);\n"
   ]
  },
  {
   "cell_type": "markdown",
   "id": "47a141d7-f8d6-416f-bff9-9dc37cd6e155",
   "metadata": {},
   "source": [
    "4 - Crie uma classe em Java que solicite ao usuário a quantidade de termos desejada e imprima os termos da série de Fibonacci até o número especificado utilizando a estrutura de repetição while."
   ]
  },
  {
   "cell_type": "code",
   "execution_count": null,
   "id": "031dc7dd-4585-4413-8349-166d5c7d3c2d",
   "metadata": {
    "vscode": {
     "languageId": "java"
    }
   },
   "outputs": [],
   "source": [
    " // Exercício 4: Série de Fibonacci\n",
    " System.out.print(\"Digite a quantidade de termos desejada para a série de Fibonacci: \");\n",
    " int num4 = scanner.nextInt();\n",
    " int primeiroTermo = 0, segundoTermo = 1;\n",
    " int k = 1;\n",
    " System.out.println(\"Série de Fibonacci:\");\n",
    " while (k <= num4) {\n",
    "     System.out.print(primeiroTermo + \" \");\n",
    "     int proximoTermo = primeiroTermo + segundoTermo;\n",
    "     primeiroTermo = segundoTermo;\n",
    "     segundoTermo = proximoTermo;\n",
    "     k++;\n",
    " }\n",
    " \n",
    " scanner.close();"
   ]
  },
  {
   "cell_type": "markdown",
   "id": "990a4675-5ec7-4e9c-98d2-853f17eacaa0",
   "metadata": {},
   "source": [
    "## Siga as instruções de cada exercício e utilize a estrutura de repetição do-while e a classe Scanner para interagir com o usuário e realizar os cálculos necessários. "
   ]
  },
  {
   "cell_type": "markdown",
   "id": "13fc9f9a-3e93-42ef-a0e7-874a9c8185b1",
   "metadata": {},
   "source": [
    "1 - Crie uma classe em Java que solicite ao usuário um número inteiro e exiba a tabuada desse número de 1 a 10 utilizando a estrutura de repetição do-while."
   ]
  },
  {
   "cell_type": "code",
   "execution_count": null,
   "id": "8c60780e-2a59-4b86-97d8-e746705fe8ac",
   "metadata": {
    "vscode": {
     "languageId": "java"
    }
   },
   "outputs": [],
   "source": [
    " // Exercício 1: Tabuada\n",
    " System.out.print(\"Digite um número inteiro para exibir sua tabuada de 1 a 10: \");\n",
    " int num1 = scanner.nextInt();\n",
    " System.out.println(\"Tabuada do \" + num1 + \":\");\n",
    " int i = 1;\n",
    " do {\n",
    "     System.out.println(num1 + \" x \" + i + \" = \" + (num1 * i));\n",
    "     i++;\n",
    " } while (i <= 10);"
   ]
  },
  {
   "cell_type": "markdown",
   "id": "2e95b503-6de2-4eb4-a24e-a762d29778b7",
   "metadata": {},
   "source": [
    "2 - Crie uma classe em Java que solicite ao usuário um número inteiro positivo e realize uma contagem regressiva a partir desse número até 1 utilizando a estrutura de repetição do-while."
   ]
  },
  {
   "cell_type": "code",
   "execution_count": null,
   "id": "36f4382b-65ed-4fd2-85ba-6f6836bb9297",
   "metadata": {
    "vscode": {
     "languageId": "java"
    }
   },
   "outputs": [],
   "source": [
    "// Exercício 2: Contagem Regressiva\n",
    "System.out.print(\"Digite um número inteiro positivo para iniciar a contagem regressiva: \");\n",
    "int num2 = scanner.nextInt();\n",
    "System.out.println(\"Contagem regressiva a partir de \" + num2 + \":\");\n",
    "do {\n",
    "    System.out.println(num2);\n",
    "    num2--;\n",
    "} while (num2 >= 1);"
   ]
  },
  {
   "cell_type": "markdown",
   "id": "8b0912f3-4aa2-4da4-ac69-5bc93ebffc70",
   "metadata": {},
   "source": [
    "3 - Crie uma classe em Java que solicite ao usuário um número inteiro positivo e calcule o seu fatorial utilizando a estrutura de repetição do-while."
   ]
  },
  {
   "cell_type": "code",
   "execution_count": null,
   "id": "b7de2435-0ecd-45a8-9f6f-d0447c46943a",
   "metadata": {
    "vscode": {
     "languageId": "java"
    }
   },
   "outputs": [],
   "source": [
    "// Exercício 3: Fatorial\n",
    "System.out.print(\"Digite um número inteiro positivo para calcular o seu fatorial: \");\n",
    "int num3 = scanner.nextInt();\n",
    "int fatorial = 1;\n",
    "int j = 1;\n",
    "do {\n",
    "    fatorial *= j;\n",
    "    j++;\n",
    "} while (j <= num3);\n",
    "System.out.println(\"Fatorial de \" + num3 + \" é: \" + fatorial);\n"
   ]
  },
  {
   "cell_type": "markdown",
   "id": "72dee444-9b77-46e2-b13d-d85ee28d2a2b",
   "metadata": {},
   "source": [
    "4 - Crie uma classe em Java que solicite ao usuário a quantidade de termos desejada e imprima os termos da série de Fibonacci até o número especificado utilizando a estrutura de repetição do-while."
   ]
  },
  {
   "cell_type": "code",
   "execution_count": null,
   "id": "4e1c2ae8-d083-4db7-9d30-3835abc58a0a",
   "metadata": {
    "vscode": {
     "languageId": "java"
    }
   },
   "outputs": [],
   "source": [
    "// Exercício 4: Série de Fibonacci\n",
    "System.out.print(\"Digite a quantidade de termos desejada para a série de Fibonacci: \");\n",
    "int num4 = scanner.nextInt();\n",
    "int primeiroTermo = 0, segundoTermo = 1;\n",
    "int k = 1;\n",
    "System.out.println(\"Série de Fibonacci:\");\n",
    "do {\n",
    "    System.out.print(primeiroTermo + \" \");\n",
    "    int proximoTermo = primeiroTermo + segundoTermo;\n",
    "    primeiroTermo = segundoTermo;\n",
    "    segundoTermo = proximoTermo;\n",
    "    k++;\n",
    "} while (k <= num4);\n",
    "\n",
    "scanner.close();"
   ]
  }
 ],
 "metadata": {
  "kernelspec": {
   "display_name": "Java",
   "language": "java",
   "name": "java"
  },
  "language_info": {
   "codemirror_mode": "java",
   "file_extension": ".jshell",
   "mimetype": "text/x-java-source",
   "name": "Java",
   "pygments_lexer": "java",
   "version": "21.0.1+12-LTS-29"
  }
 },
 "nbformat": 4,
 "nbformat_minor": 5
}
